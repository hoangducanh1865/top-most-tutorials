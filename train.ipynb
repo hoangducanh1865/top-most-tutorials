{
 "cells": [
  {
   "cell_type": "code",
   "execution_count": null,
   "id": "3a48a562",
   "metadata": {},
   "outputs": [],
   "source": [
    "!git clone https://github.com/hoangducanh1865/top-most-tutorials"
   ]
  },
  {
   "cell_type": "code",
   "execution_count": null,
   "id": "f6c733bc",
   "metadata": {},
   "outputs": [],
   "source": [
    "'''\n",
    "git config user.name \n",
    "git config user.email\n",
    "git remote -v \n",
    "git branch \n",
    "\n",
    "git status\n",
    "\n",
    "git add . \n",
    "git commit -m “Update”\n",
    "git push -u origin main \n",
    "'''\n",
    "\n",
    "%cd federate_topic_model\n",
    "!git pull \n",
    "%cd .."
   ]
  }
 ],
 "metadata": {
  "kernelspec": {
   "display_name": "Python 3 (ipykernel)",
   "language": "python",
   "name": "python3"
  }
 },
 "nbformat": 4,
 "nbformat_minor": 5
}
